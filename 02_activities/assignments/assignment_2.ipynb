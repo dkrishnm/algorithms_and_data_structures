{
 "cells": [
  {
   "cell_type": "markdown",
   "metadata": {},
   "source": [
    "# Practice Interview\n",
    "\n",
    "## Objective\n",
    "\n",
    "_*The partner assignment aims to provide participants with the opportunity to practice coding in an interview context. You will analyze your partner's Assignment 1. Moreover, code reviews are common practice in a software development team. This assignment should give you a taste of the code review process.*_\n",
    "\n",
    "## Group Size\n",
    "\n",
    "Each group should have 2 people. You will be assigned a partner\n",
    "\n",
    "## Part 1:\n",
    "\n",
    "You and your partner must share each other's Assignment 1 submission."
   ]
  },
  {
   "cell_type": "markdown",
   "metadata": {},
   "source": [
    "\n",
    "## Part 2:\n",
    "\n",
    "Create a Jupyter Notebook, create 6 of the following headings, and complete the following for your partner's assignment 1:\n",
    "\n",
    "-   Paraphrase the problem in your own words.\n"
   ]
  },
  {
   "cell_type": "code",
   "execution_count": null,
   "metadata": {},
   "outputs": [],
   "source": [
    "'''for a given list of integers, the program  should ensure that the input list contains all integers from 0 to the largest integer n \n",
    "found in the list. The default output should be -1 if the input list is empty or already contains all integers from 0 to n.\n",
    "The method should check if any missing integers in the list and return all of them as a list'''"
   ]
  },
  {
   "cell_type": "markdown",
   "metadata": {},
   "source": [
    "\n",
    "-   Create 1 new example that demonstrates you understand the problem. Trace/walkthrough 1 example that your partner made and explain it.\n"
   ]
  },
  {
   "cell_type": "code",
   "execution_count": null,
   "metadata": {},
   "outputs": [],
   "source": [
    "# Example \n",
    "# input_list = [5, 0, 4, 2, 8]\n",
    "# Output_list = [1,3,6,7]\n",
    "\n",
    "#Example from partner\n",
    "\n",
    "#lst_4 = [13,1,8,8,5,2,2,2]\n",
    "#output_4 = [3, 4, 6, 7, 9, 10, 11, 12]\n",
    "\n",
    "'''In the above example the minumum number is 1 and the maximum is 13. So the output has all the missing in the list between 1 and 13. \n",
    "The duplicates in the list are ignored. As a correction, The sample output should have included 0 as well'''"
   ]
  },
  {
   "cell_type": "markdown",
   "metadata": {},
   "source": [
    "\n",
    "-   Copy the solution your partner wrote. \n"
   ]
  },
  {
   "cell_type": "code",
   "execution_count": 2,
   "metadata": {},
   "outputs": [],
   "source": [
    "def missing_num(nums: list):    \n",
    "    maximum = max(nums) # O(m)\n",
    "    set_from_list = set(nums) #O(m)\n",
    "    set_from_range = set(range(0,maximum)) #O(n)\n",
    "    diff = set_from_range - set_from_list #O(n)\n",
    "    if len(diff)>0: #O(n)\n",
    "        return list(diff)\n",
    "    else:\n",
    "        return -1\n",
    "    "
   ]
  },
  {
   "cell_type": "code",
   "execution_count": 3,
   "metadata": {},
   "outputs": [
    {
     "name": "stdout",
     "output_type": "stream",
     "text": [
      "output 1:  [1]\n",
      "output 2:  [2, 3, 4]\n",
      "output 3:  [9, 4]\n",
      "output 4:  [0, 3, 4, 6, 7, 9, 10, 11, 12]\n",
      "output 5:  -1\n"
     ]
    }
   ],
   "source": [
    "lst_1 = [0,2]\n",
    "lst_2 = [5,0,1]\n",
    "lst_3 = [6, 8, 2, 3, 5, 7, 0, 1, 10]\n",
    "lst_4 = [13,1,8,8,5,2,2,2]\n",
    "lst_5 = [5,4,3,2,1,0]\n",
    "lists = [lst_1,lst_2,lst_3,lst_4,lst_5]\n",
    "for i in range(len(lists)):\n",
    "    print(f'output {i+1}: ',missing_num(lists[i]))"
   ]
  },
  {
   "cell_type": "markdown",
   "metadata": {},
   "source": [
    "\n",
    "-   Explain why their solution works in your own words.\n"
   ]
  },
  {
   "cell_type": "code",
   "execution_count": null,
   "metadata": {},
   "outputs": [],
   "source": [
    "'''\n",
    "1) maximum = max(nums) - This line identifies the maximum value in this list\n",
    "\n",
    "2)set_from_list = set(nums)\n",
    "  set_from_range = set(range(0, maximum))\n",
    " These lines help convert the list to a set and removes all the duplicates. Also creates a new set with values 0 to maximum value \n",
    " in the set.\n",
    "\n",
    " 3) diff = set_from_range - set_from_list\n",
    "\n",
    " This finds the difference between the sets and hence has all the missing numbers\n",
    "\n",
    " 4) if len(diff)>0: #O(n)\n",
    "        return list(diff)\n",
    "    else:\n",
    "        return -1\n",
    "\n",
    "Returns the result with the missing numbers list or if none returns -1\n",
    "\n",
    "Hence the code satisfies all the requirements\n",
    "\n",
    "'''"
   ]
  },
  {
   "cell_type": "markdown",
   "metadata": {},
   "source": [
    "\n",
    "-   Explain the problem’s time and space complexity in your own words.\n"
   ]
  },
  {
   "cell_type": "code",
   "execution_count": null,
   "metadata": {},
   "outputs": [],
   "source": [
    "#  The problem time complexity is determined by the time spent on creation of two sets. It should be O(n+m) which can be deduced as O(n) \n",
    "# Space complexity is also the space taken by the sets which would add to O(n+m) and again comes to O(n)"
   ]
  },
  {
   "cell_type": "markdown",
   "metadata": {},
   "source": [
    "\n",
    "-   Critique your partner's solution, including explanation, and if there is anything that should be adjusted.\n"
   ]
  },
  {
   "cell_type": "code",
   "execution_count": null,
   "metadata": {},
   "outputs": [],
   "source": [
    "# the solution could have used sorting, to determine the maximum value in 0(1). Else the solution works well"
   ]
  },
  {
   "cell_type": "markdown",
   "metadata": {},
   "source": [
    "\n",
    "## Part 3:\n",
    "\n",
    "Please write a 200 word reflection documenting your process from assignment 1, and your presentation and review experience with your partner at the bottom of the Jupyter Notebook under a new heading \"Reflection.\" Again, export this Notebook as pdf.\n"
   ]
  },
  {
   "cell_type": "markdown",
   "metadata": {},
   "source": [
    "### Reflection"
   ]
  },
  {
   "cell_type": "markdown",
   "metadata": {},
   "source": [
    "I was assigned problem 1 as part of assignment 1. I revisited both Breadth first search and Depth first search while implementing a solution to the problem and identify the trade offs of each solution. Also researched a bit on how to utilize recursion for the implementation. This assignment helped reinfornce the learning on time and space complexity of each solution to figure out the bext fit. As the solution had to find the nearest duplicate to the root the pick was BFS implementation.\n",
    "\n",
    "As part of assignment-2 , I got the chance to see the solution implemented by my partner to find the missing numbers in a range of values. This helped me learn how to approach code review and see if the solution works well to meet the expectations. Also think what could be the improvements made to make the code function better. The use of set to avoid the duplicates and finding the diff of the sets is found to be a very viable solution with reduced. time and space complexity.\n",
    "\n"
   ]
  },
  {
   "cell_type": "code",
   "execution_count": null,
   "metadata": {},
   "outputs": [],
   "source": [
    "# Your answer here"
   ]
  },
  {
   "cell_type": "markdown",
   "metadata": {},
   "source": [
    "\n",
    "## Evaluation Criteria\n",
    "\n",
    "We are looking for the similar points as Assignment 1\n",
    "\n",
    "-   Problem is accurately stated\n",
    "\n",
    "-   New example is correct and easily understandable\n",
    "\n",
    "-   Correctness, time, and space complexity of the coding solution\n",
    "\n",
    "-   Clarity in explaining why the solution works, its time and space complexity\n",
    "\n",
    "-   Quality of critique of your partner's assignment, if necessary\n"
   ]
  },
  {
   "cell_type": "markdown",
   "metadata": {},
   "source": [
    "## Submission Information\n",
    "\n",
    "🚨 **Please review our [Assignment Submission Guide](https://github.com/UofT-DSI/onboarding/blob/main/onboarding_documents/submissions.md)** 🚨 for detailed instructions on how to format, branch, and submit your work. Following these guidelines is crucial for your submissions to be evaluated correctly.\n",
    "\n",
    "### Submission Parameters:\n",
    "* Submission Due Date: `HH:MM AM/PM - DD/MM/YYYY`\n",
    "* The branch name for your repo should be: `assignment-2`\n",
    "* What to submit for this assignment:\n",
    "    * This Jupyter Notebook (assignment_2.ipynb) should be populated and should be the only change in your pull request.\n",
    "* What the pull request link should look like for this assignment: `https://github.com/<your_github_username>/algorithms_and_data_structures/pull/<pr_id>`\n",
    "    * Open a private window in your browser. Copy and paste the link to your pull request into the address bar. Make sure you can see your pull request properly. This helps the technical facilitator and learning support staff review your submission easily.\n",
    "\n",
    "Checklist:\n",
    "- [ ] Created a branch with the correct naming convention.\n",
    "- [ ] Ensured that the repository is public.\n",
    "- [ ] Reviewed the PR description guidelines and adhered to them.\n",
    "- [ ] Verify that the link is accessible in a private browser window.\n",
    "\n",
    "If you encounter any difficulties or have questions, please don't hesitate to reach out to our team via our Slack at `#cohort-3-help`. Our Technical Facilitators and Learning Support staff are here to help you navigate any challenges.\n"
   ]
  }
 ],
 "metadata": {
  "kernelspec": {
   "display_name": "dsi_participant",
   "language": "python",
   "name": "python3"
  },
  "language_info": {
   "codemirror_mode": {
    "name": "ipython",
    "version": 3
   },
   "file_extension": ".py",
   "mimetype": "text/x-python",
   "name": "python",
   "nbconvert_exporter": "python",
   "pygments_lexer": "ipython3",
   "version": "3.9.19"
  }
 },
 "nbformat": 4,
 "nbformat_minor": 2
}
